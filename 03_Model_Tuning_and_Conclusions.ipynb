{
 "cells": [
  {
   "cell_type": "markdown",
   "metadata": {},
   "source": [
    "# Project 2: Ames Housing Data and Kaggle Challenge"
   ]
  },
  {
   "cell_type": "code",
   "execution_count": 1,
   "metadata": {},
   "outputs": [],
   "source": [
    "# import packages\n",
    "import pandas as pd\n",
    "import numpy as np\n",
    "import seaborn as sns\n",
    "import matplotlib.pyplot as plt\n",
    "from sklearn.metrics import mean_squared_error\n",
    "from sklearn.preprocessing import StandardScaler, PolynomialFeatures\n",
    "from sklearn.impute import SimpleImputer, KNNImputer\n",
    "from sklearn.compose import make_column_selector\n",
    "from sklearn.model_selection import train_test_split, cross_val_score, GridSearchCV\n",
    "from sklearn.preprocessing import StandardScaler, OneHotEncoder, PolynomialFeatures, OrdinalEncoder\n",
    "from sklearn.linear_model import LogisticRegression, LinearRegression, Lasso, Ridge, RidgeCV\n",
    "from sklearn import metrics\n",
    "from sklearn.impute import SimpleImputer, KNNImputer\n",
    "from sklearn.feature_selection import RFE\n",
    "from sklearn.pipeline import make_pipeline\n",
    "from sklearn.compose import make_column_transformer\n",
    "import warnings\n",
    "warnings.filterwarnings('ignore')\n",
    "import os"
   ]
  },
  {
   "cell_type": "markdown",
   "metadata": {
    "tags": []
   },
   "source": [
    "# Modeling\n",
    "---"
   ]
  },
  {
   "cell_type": "code",
   "execution_count": 2,
   "metadata": {},
   "outputs": [],
   "source": [
    "# read in all datasets necessary for modeling\n",
    "housing = pd.read_csv('cleaned_datasets/housing_preprocessed1_data.csv')\n",
    "df_model_train = pd.read_csv('cleaned_datasets/housing_df_model_train.csv')\n",
    "df_model_test = pd.read_csv('cleaned_datasets/housing_df_model_test.csv')\n",
    "y_train = pd.read_csv('cleaned_datasets/housing_y-train.csv')\n",
    "y_test = pd.read_csv('cleaned_datasets/housing_y-test_data.csv')"
   ]
  },
  {
   "cell_type": "markdown",
   "metadata": {},
   "source": [
    "## Datasets for modeling\n",
    "- df_model_train\n",
    "- df_model_test\n",
    "- y_train\n",
    "- y_test"
   ]
  },
  {
   "cell_type": "code",
   "execution_count": 3,
   "metadata": {},
   "outputs": [],
   "source": [
    "df_model_train_final = df_model_train.drop(columns=['pid', 'id'])\n",
    "df_model_test_final = df_model_test.drop(columns=['pid', 'id'])\n",
    "y_train = y_train.drop(columns=['id'])\n",
    "y_test = y_test.drop(columns=['id'])"
   ]
  },
  {
   "cell_type": "code",
   "execution_count": 4,
   "metadata": {},
   "outputs": [
    {
     "data": {
      "text/plain": [
       "Index(['overallqual', 'exterqual', 'kitchenqual', 'garagearea', 'garagefinish',\n",
       "       'yearremod_add', 'fullbath', 'masvnrarea', 'garageyrblt',\n",
       "       'totrmsabvgrd', 'heatingqc', 'neighborhood_NridgHt', 'fireplaces',\n",
       "       'bsmtfinsf1', 'bsmtexposure', 'saletype_New', 'openporchsf',\n",
       "       'bsmtfintype1', 'exterior2nd_VinylSd', 'lotfrontage',\n",
       "       'masvnrtype_Stone', 'wooddecksf', 'halfbath', 'lotarea', 'paveddrive',\n",
       "       'neighborhood_StoneBr', 'roofstyle_Hip', 'bsmtfullbath', 'centralair_Y',\n",
       "       'garagetype_BuiltIn', 'masvnrtype_BrkFace', 'neighborhood_NoRidge',\n",
       "       'bsmtcond', 'housestyle_2Story', 'landcontour_HLS', 'has_garage',\n",
       "       'bsmtunfsf', 'exterior2nd_CmentBd', 'screenporch', 'bedroomabvgr',\n",
       "       'lotconfig_CulDSac', 'neighborhood_Somerst', 'functional',\n",
       "       'neighborhood_Timber', 'condition1_Norm', 'condition2_PosA',\n",
       "       'neighborhood_MeadowV', 'overallcond', 'neighborhood_BrDale',\n",
       "       'kitchenabvgr', 'condition1_Feedr', 'bldgtype_Twnhs', 'has_alley',\n",
       "       'exterior2nd_MetalSd', 'neighborhood_BrkSide', 'foundation_Slab',\n",
       "       'exterior2nd_HdBoard', 'neighborhood_Sawyer', 'enclosedporch',\n",
       "       'has_fence', 'neighborhood_NAmes', 'exterior2nd_Wd Sdng',\n",
       "       'neighborhood_IDOTRR', 'neighborhood_OldTown', 'neighborhood_Edwards',\n",
       "       'exterior1st_Wd Sdng', 'saletype_WD ', 'garagetype_NA', 'electrical',\n",
       "       'mszoning_RM', 'lotshape', 'foundation_CBlock', 'garagetype_Detchd'],\n",
       "      dtype='object')"
      ]
     },
     "execution_count": 4,
     "metadata": {},
     "output_type": "execute_result"
    }
   ],
   "source": [
    "df_model_train_final.columns"
   ]
  },
  {
   "cell_type": "markdown",
   "metadata": {},
   "source": [
    "#### Baseline"
   ]
  },
  {
   "cell_type": "code",
   "execution_count": 5,
   "metadata": {},
   "outputs": [
    {
     "data": {
      "text/plain": [
       "181205.50218978102"
      ]
     },
     "execution_count": 5,
     "metadata": {},
     "output_type": "execute_result"
    }
   ],
   "source": [
    "# baseline\n",
    "y_train.mean()[0]"
   ]
  },
  {
   "cell_type": "markdown",
   "metadata": {},
   "source": [
    "#### Model 1 - Linear Regression"
   ]
  },
  {
   "cell_type": "code",
   "execution_count": 6,
   "metadata": {},
   "outputs": [
    {
     "data": {
      "text/html": [
       "<style>#sk-container-id-1 {color: black;background-color: white;}#sk-container-id-1 pre{padding: 0;}#sk-container-id-1 div.sk-toggleable {background-color: white;}#sk-container-id-1 label.sk-toggleable__label {cursor: pointer;display: block;width: 100%;margin-bottom: 0;padding: 0.3em;box-sizing: border-box;text-align: center;}#sk-container-id-1 label.sk-toggleable__label-arrow:before {content: \"▸\";float: left;margin-right: 0.25em;color: #696969;}#sk-container-id-1 label.sk-toggleable__label-arrow:hover:before {color: black;}#sk-container-id-1 div.sk-estimator:hover label.sk-toggleable__label-arrow:before {color: black;}#sk-container-id-1 div.sk-toggleable__content {max-height: 0;max-width: 0;overflow: hidden;text-align: left;background-color: #f0f8ff;}#sk-container-id-1 div.sk-toggleable__content pre {margin: 0.2em;color: black;border-radius: 0.25em;background-color: #f0f8ff;}#sk-container-id-1 input.sk-toggleable__control:checked~div.sk-toggleable__content {max-height: 200px;max-width: 100%;overflow: auto;}#sk-container-id-1 input.sk-toggleable__control:checked~label.sk-toggleable__label-arrow:before {content: \"▾\";}#sk-container-id-1 div.sk-estimator input.sk-toggleable__control:checked~label.sk-toggleable__label {background-color: #d4ebff;}#sk-container-id-1 div.sk-label input.sk-toggleable__control:checked~label.sk-toggleable__label {background-color: #d4ebff;}#sk-container-id-1 input.sk-hidden--visually {border: 0;clip: rect(1px 1px 1px 1px);clip: rect(1px, 1px, 1px, 1px);height: 1px;margin: -1px;overflow: hidden;padding: 0;position: absolute;width: 1px;}#sk-container-id-1 div.sk-estimator {font-family: monospace;background-color: #f0f8ff;border: 1px dotted black;border-radius: 0.25em;box-sizing: border-box;margin-bottom: 0.5em;}#sk-container-id-1 div.sk-estimator:hover {background-color: #d4ebff;}#sk-container-id-1 div.sk-parallel-item::after {content: \"\";width: 100%;border-bottom: 1px solid gray;flex-grow: 1;}#sk-container-id-1 div.sk-label:hover label.sk-toggleable__label {background-color: #d4ebff;}#sk-container-id-1 div.sk-serial::before {content: \"\";position: absolute;border-left: 1px solid gray;box-sizing: border-box;top: 0;bottom: 0;left: 50%;z-index: 0;}#sk-container-id-1 div.sk-serial {display: flex;flex-direction: column;align-items: center;background-color: white;padding-right: 0.2em;padding-left: 0.2em;position: relative;}#sk-container-id-1 div.sk-item {position: relative;z-index: 1;}#sk-container-id-1 div.sk-parallel {display: flex;align-items: stretch;justify-content: center;background-color: white;position: relative;}#sk-container-id-1 div.sk-item::before, #sk-container-id-1 div.sk-parallel-item::before {content: \"\";position: absolute;border-left: 1px solid gray;box-sizing: border-box;top: 0;bottom: 0;left: 50%;z-index: -1;}#sk-container-id-1 div.sk-parallel-item {display: flex;flex-direction: column;z-index: 1;position: relative;background-color: white;}#sk-container-id-1 div.sk-parallel-item:first-child::after {align-self: flex-end;width: 50%;}#sk-container-id-1 div.sk-parallel-item:last-child::after {align-self: flex-start;width: 50%;}#sk-container-id-1 div.sk-parallel-item:only-child::after {width: 0;}#sk-container-id-1 div.sk-dashed-wrapped {border: 1px dashed gray;margin: 0 0.4em 0.5em 0.4em;box-sizing: border-box;padding-bottom: 0.4em;background-color: white;}#sk-container-id-1 div.sk-label label {font-family: monospace;font-weight: bold;display: inline-block;line-height: 1.2em;}#sk-container-id-1 div.sk-label-container {text-align: center;}#sk-container-id-1 div.sk-container {/* jupyter's `normalize.less` sets `[hidden] { display: none; }` but bootstrap.min.css set `[hidden] { display: none !important; }` so we also need the `!important` here to be able to override the default hidden behavior on the sphinx rendered scikit-learn.org. See: https://github.com/scikit-learn/scikit-learn/issues/21755 */display: inline-block !important;position: relative;}#sk-container-id-1 div.sk-text-repr-fallback {display: none;}</style><div id=\"sk-container-id-1\" class=\"sk-top-container\"><div class=\"sk-text-repr-fallback\"><pre>LinearRegression()</pre><b>In a Jupyter environment, please rerun this cell to show the HTML representation or trust the notebook. <br />On GitHub, the HTML representation is unable to render, please try loading this page with nbviewer.org.</b></div><div class=\"sk-container\" hidden><div class=\"sk-item\"><div class=\"sk-estimator sk-toggleable\"><input class=\"sk-toggleable__control sk-hidden--visually\" id=\"sk-estimator-id-1\" type=\"checkbox\" checked><label for=\"sk-estimator-id-1\" class=\"sk-toggleable__label sk-toggleable__label-arrow\">LinearRegression</label><div class=\"sk-toggleable__content\"><pre>LinearRegression()</pre></div></div></div></div></div>"
      ],
      "text/plain": [
       "LinearRegression()"
      ]
     },
     "execution_count": 6,
     "metadata": {},
     "output_type": "execute_result"
    }
   ],
   "source": [
    "#instantiate and fit OLS model\n",
    "lr = LinearRegression()\n",
    "lr.fit(df_model_train_final, y_train)"
   ]
  },
  {
   "cell_type": "code",
   "execution_count": 7,
   "metadata": {},
   "outputs": [
    {
     "data": {
      "text/plain": [
       "0.9036883527932799"
      ]
     },
     "execution_count": 7,
     "metadata": {},
     "output_type": "execute_result"
    }
   ],
   "source": [
    "lr.score(df_model_train_final, y_train)"
   ]
  },
  {
   "cell_type": "code",
   "execution_count": 8,
   "metadata": {},
   "outputs": [
    {
     "data": {
      "text/plain": [
       "24716.971636189173"
      ]
     },
     "execution_count": 8,
     "metadata": {},
     "output_type": "execute_result"
    }
   ],
   "source": [
    "#calculate RMSE\n",
    "y_pred = lr.predict(df_model_train_final)\n",
    "mean_squared_error(y_train, y_pred, squared=False)\n",
    "\n",
    "#rmse of lr is better than our baseline using just standard OLS model"
   ]
  },
  {
   "cell_type": "code",
   "execution_count": 9,
   "metadata": {},
   "outputs": [],
   "source": [
    "y_test_pred = lr.predict(df_model_test_final)"
   ]
  },
  {
   "cell_type": "code",
   "execution_count": 10,
   "metadata": {
    "tags": []
   },
   "outputs": [
    {
     "data": {
      "text/plain": [
       "0.8839212571741166"
      ]
     },
     "execution_count": 10,
     "metadata": {},
     "output_type": "execute_result"
    }
   ],
   "source": [
    "#checking the model on the test data\n",
    "lr.score(df_model_test_final, y_test)"
   ]
  },
  {
   "cell_type": "code",
   "execution_count": 11,
   "metadata": {},
   "outputs": [
    {
     "name": "stdout",
     "output_type": "stream",
     "text": [
      "baseline: saleprice    181205.50219\n",
      "dtype: float64\n",
      "======= LR =======\n",
      "rmse train: 24716.971636189173\n",
      "rmse test: 26742.42745018656\n",
      "r2 train: 0.9036883527932799\n",
      "r2 test: 0.8839212571741166\n"
     ]
    }
   ],
   "source": [
    "print('baseline:', y_train.mean())\n",
    "\n",
    "print(\" LR \".center(18, \"=\"))\n",
    "print('rmse train:', mean_squared_error(y_train, y_pred, squared=False))\n",
    "print('rmse test:', mean_squared_error(y_test, y_test_pred, squared=False))\n",
    "print('r2 train:', lr.score(df_model_train_final, y_train))\n",
    "print('r2 test:', lr.score(df_model_test_final, y_test))"
   ]
  },
  {
   "cell_type": "code",
   "execution_count": 12,
   "metadata": {},
   "outputs": [
    {
     "data": {
      "text/plain": [
       "array([ 1.65131274e+04,  4.95501674e+03,  6.56775827e+03,  6.22163441e+03,\n",
       "        1.14557332e+03,  1.03839192e+03,  6.93849462e+03,  7.65770700e+03,\n",
       "       -7.27464922e+02,  1.25913545e+04,  1.35253727e+03,  6.92751427e+03,\n",
       "        4.05998588e+03,  1.61233666e+04,  5.30533140e+03,  4.02010467e+03,\n",
       "        2.67868674e+03, -1.07315126e+02, -3.84751759e+02,  4.05037683e+03,\n",
       "       -6.14363524e+02,  1.87787610e+03,  4.48483914e+03,  5.98047187e+03,\n",
       "        1.58524788e+03,  6.20797124e+03,  3.10034005e+03,  3.25818644e+03,\n",
       "       -1.42807937e+02,  2.44934571e+03, -4.68715899e+03,  5.37061758e+03,\n",
       "       -2.95357180e+03,  7.74672457e+01,  2.68138297e+03, -8.55669797e+16,\n",
       "        7.85219727e+03,  2.03673104e+03,  4.73792603e+03, -1.56570407e+03,\n",
       "        1.97158102e+03,  1.04610193e+03,  1.54639655e+03, -9.54586927e+02,\n",
       "        2.34693397e+03,  1.62754114e+03, -6.91800497e+02,  5.04090410e+03,\n",
       "        4.46318933e+02, -4.46217386e+03,  3.95480207e+02, -1.57024851e+03,\n",
       "       -5.09136902e+02,  7.75119082e+00,  1.83649547e+02,  7.23677608e+02,\n",
       "       -2.62101016e+03, -2.23732752e+02,  6.06663209e+02,  4.42113384e+02,\n",
       "       -1.60347978e+03,  3.66802060e+03, -1.41588820e+03, -2.26068743e+03,\n",
       "       -1.68486374e+03, -4.49504404e+03, -3.89928761e+02, -8.55669797e+16,\n",
       "        5.19459310e+02, -1.70102359e+03, -1.08940781e+03, -1.23795847e+03,\n",
       "        1.99179710e+03])"
      ]
     },
     "execution_count": 12,
     "metadata": {},
     "output_type": "execute_result"
    }
   ],
   "source": [
    "lr.coef_[0]"
   ]
  },
  {
   "cell_type": "code",
   "execution_count": 13,
   "metadata": {},
   "outputs": [],
   "source": [
    "pd.set_option('display.max_rows', 200)"
   ]
  },
  {
   "cell_type": "code",
   "execution_count": 14,
   "metadata": {},
   "outputs": [
    {
     "data": {
      "text/plain": [
       "73"
      ]
     },
     "execution_count": 14,
     "metadata": {},
     "output_type": "execute_result"
    }
   ],
   "source": [
    "len(lr.coef_[0])"
   ]
  },
  {
   "cell_type": "code",
   "execution_count": 38,
   "metadata": {},
   "outputs": [
    {
     "data": {
      "text/html": [
       "<div>\n",
       "<style scoped>\n",
       "    .dataframe tbody tr th:only-of-type {\n",
       "        vertical-align: middle;\n",
       "    }\n",
       "\n",
       "    .dataframe tbody tr th {\n",
       "        vertical-align: top;\n",
       "    }\n",
       "\n",
       "    .dataframe thead th {\n",
       "        text-align: right;\n",
       "    }\n",
       "</style>\n",
       "<table border=\"1\" class=\"dataframe\">\n",
       "  <thead>\n",
       "    <tr style=\"text-align: right;\">\n",
       "      <th></th>\n",
       "      <th>coef</th>\n",
       "    </tr>\n",
       "  </thead>\n",
       "  <tbody>\n",
       "    <tr>\n",
       "      <th>overallqual</th>\n",
       "      <td>1.651313e+04</td>\n",
       "    </tr>\n",
       "    <tr>\n",
       "      <th>bsmtfinsf1</th>\n",
       "      <td>1.612337e+04</td>\n",
       "    </tr>\n",
       "    <tr>\n",
       "      <th>totrmsabvgrd</th>\n",
       "      <td>1.259135e+04</td>\n",
       "    </tr>\n",
       "    <tr>\n",
       "      <th>bsmtunfsf</th>\n",
       "      <td>7.852197e+03</td>\n",
       "    </tr>\n",
       "    <tr>\n",
       "      <th>masvnrarea</th>\n",
       "      <td>7.657707e+03</td>\n",
       "    </tr>\n",
       "    <tr>\n",
       "      <th>fullbath</th>\n",
       "      <td>6.938495e+03</td>\n",
       "    </tr>\n",
       "    <tr>\n",
       "      <th>neighborhood_NridgHt</th>\n",
       "      <td>6.927514e+03</td>\n",
       "    </tr>\n",
       "    <tr>\n",
       "      <th>kitchenqual</th>\n",
       "      <td>6.567758e+03</td>\n",
       "    </tr>\n",
       "    <tr>\n",
       "      <th>garagearea</th>\n",
       "      <td>6.221634e+03</td>\n",
       "    </tr>\n",
       "    <tr>\n",
       "      <th>neighborhood_StoneBr</th>\n",
       "      <td>6.207971e+03</td>\n",
       "    </tr>\n",
       "    <tr>\n",
       "      <th>lotarea</th>\n",
       "      <td>5.980472e+03</td>\n",
       "    </tr>\n",
       "    <tr>\n",
       "      <th>neighborhood_NoRidge</th>\n",
       "      <td>5.370618e+03</td>\n",
       "    </tr>\n",
       "    <tr>\n",
       "      <th>bsmtexposure</th>\n",
       "      <td>5.305331e+03</td>\n",
       "    </tr>\n",
       "    <tr>\n",
       "      <th>overallcond</th>\n",
       "      <td>5.040904e+03</td>\n",
       "    </tr>\n",
       "    <tr>\n",
       "      <th>exterqual</th>\n",
       "      <td>4.955017e+03</td>\n",
       "    </tr>\n",
       "    <tr>\n",
       "      <th>screenporch</th>\n",
       "      <td>4.737926e+03</td>\n",
       "    </tr>\n",
       "    <tr>\n",
       "      <th>halfbath</th>\n",
       "      <td>4.484839e+03</td>\n",
       "    </tr>\n",
       "    <tr>\n",
       "      <th>fireplaces</th>\n",
       "      <td>4.059986e+03</td>\n",
       "    </tr>\n",
       "    <tr>\n",
       "      <th>lotfrontage</th>\n",
       "      <td>4.050377e+03</td>\n",
       "    </tr>\n",
       "    <tr>\n",
       "      <th>saletype_New</th>\n",
       "      <td>4.020105e+03</td>\n",
       "    </tr>\n",
       "    <tr>\n",
       "      <th>exterior2nd_Wd Sdng</th>\n",
       "      <td>3.668021e+03</td>\n",
       "    </tr>\n",
       "    <tr>\n",
       "      <th>bsmtfullbath</th>\n",
       "      <td>3.258186e+03</td>\n",
       "    </tr>\n",
       "    <tr>\n",
       "      <th>roofstyle_Hip</th>\n",
       "      <td>3.100340e+03</td>\n",
       "    </tr>\n",
       "    <tr>\n",
       "      <th>landcontour_HLS</th>\n",
       "      <td>2.681383e+03</td>\n",
       "    </tr>\n",
       "    <tr>\n",
       "      <th>openporchsf</th>\n",
       "      <td>2.678687e+03</td>\n",
       "    </tr>\n",
       "    <tr>\n",
       "      <th>garagetype_BuiltIn</th>\n",
       "      <td>2.449346e+03</td>\n",
       "    </tr>\n",
       "    <tr>\n",
       "      <th>condition1_Norm</th>\n",
       "      <td>2.346934e+03</td>\n",
       "    </tr>\n",
       "    <tr>\n",
       "      <th>exterior2nd_CmentBd</th>\n",
       "      <td>2.036731e+03</td>\n",
       "    </tr>\n",
       "    <tr>\n",
       "      <th>garagetype_Detchd</th>\n",
       "      <td>1.991797e+03</td>\n",
       "    </tr>\n",
       "    <tr>\n",
       "      <th>lotconfig_CulDSac</th>\n",
       "      <td>1.971581e+03</td>\n",
       "    </tr>\n",
       "    <tr>\n",
       "      <th>wooddecksf</th>\n",
       "      <td>1.877876e+03</td>\n",
       "    </tr>\n",
       "    <tr>\n",
       "      <th>condition2_PosA</th>\n",
       "      <td>1.627541e+03</td>\n",
       "    </tr>\n",
       "    <tr>\n",
       "      <th>paveddrive</th>\n",
       "      <td>1.585248e+03</td>\n",
       "    </tr>\n",
       "    <tr>\n",
       "      <th>functional</th>\n",
       "      <td>1.546397e+03</td>\n",
       "    </tr>\n",
       "    <tr>\n",
       "      <th>heatingqc</th>\n",
       "      <td>1.352537e+03</td>\n",
       "    </tr>\n",
       "    <tr>\n",
       "      <th>garagefinish</th>\n",
       "      <td>1.145573e+03</td>\n",
       "    </tr>\n",
       "    <tr>\n",
       "      <th>neighborhood_Somerst</th>\n",
       "      <td>1.046102e+03</td>\n",
       "    </tr>\n",
       "    <tr>\n",
       "      <th>yearremod_add</th>\n",
       "      <td>1.038392e+03</td>\n",
       "    </tr>\n",
       "    <tr>\n",
       "      <th>foundation_Slab</th>\n",
       "      <td>7.236776e+02</td>\n",
       "    </tr>\n",
       "    <tr>\n",
       "      <th>enclosedporch</th>\n",
       "      <td>6.066632e+02</td>\n",
       "    </tr>\n",
       "    <tr>\n",
       "      <th>electrical</th>\n",
       "      <td>5.194593e+02</td>\n",
       "    </tr>\n",
       "    <tr>\n",
       "      <th>neighborhood_BrDale</th>\n",
       "      <td>4.463189e+02</td>\n",
       "    </tr>\n",
       "    <tr>\n",
       "      <th>has_fence</th>\n",
       "      <td>4.421134e+02</td>\n",
       "    </tr>\n",
       "    <tr>\n",
       "      <th>condition1_Feedr</th>\n",
       "      <td>3.954802e+02</td>\n",
       "    </tr>\n",
       "    <tr>\n",
       "      <th>neighborhood_BrkSide</th>\n",
       "      <td>1.836495e+02</td>\n",
       "    </tr>\n",
       "    <tr>\n",
       "      <th>housestyle_2Story</th>\n",
       "      <td>7.746725e+01</td>\n",
       "    </tr>\n",
       "    <tr>\n",
       "      <th>exterior2nd_MetalSd</th>\n",
       "      <td>7.751191e+00</td>\n",
       "    </tr>\n",
       "    <tr>\n",
       "      <th>bsmtfintype1</th>\n",
       "      <td>-1.073151e+02</td>\n",
       "    </tr>\n",
       "    <tr>\n",
       "      <th>centralair_Y</th>\n",
       "      <td>-1.428079e+02</td>\n",
       "    </tr>\n",
       "    <tr>\n",
       "      <th>neighborhood_Sawyer</th>\n",
       "      <td>-2.237328e+02</td>\n",
       "    </tr>\n",
       "    <tr>\n",
       "      <th>exterior2nd_VinylSd</th>\n",
       "      <td>-3.847518e+02</td>\n",
       "    </tr>\n",
       "    <tr>\n",
       "      <th>saletype_WD</th>\n",
       "      <td>-3.899288e+02</td>\n",
       "    </tr>\n",
       "    <tr>\n",
       "      <th>has_alley</th>\n",
       "      <td>-5.091369e+02</td>\n",
       "    </tr>\n",
       "    <tr>\n",
       "      <th>masvnrtype_Stone</th>\n",
       "      <td>-6.143635e+02</td>\n",
       "    </tr>\n",
       "    <tr>\n",
       "      <th>neighborhood_MeadowV</th>\n",
       "      <td>-6.918005e+02</td>\n",
       "    </tr>\n",
       "    <tr>\n",
       "      <th>garageyrblt</th>\n",
       "      <td>-7.274649e+02</td>\n",
       "    </tr>\n",
       "    <tr>\n",
       "      <th>neighborhood_Timber</th>\n",
       "      <td>-9.545869e+02</td>\n",
       "    </tr>\n",
       "    <tr>\n",
       "      <th>lotshape</th>\n",
       "      <td>-1.089408e+03</td>\n",
       "    </tr>\n",
       "    <tr>\n",
       "      <th>foundation_CBlock</th>\n",
       "      <td>-1.237958e+03</td>\n",
       "    </tr>\n",
       "    <tr>\n",
       "      <th>neighborhood_IDOTRR</th>\n",
       "      <td>-1.415888e+03</td>\n",
       "    </tr>\n",
       "    <tr>\n",
       "      <th>bedroomabvgr</th>\n",
       "      <td>-1.565704e+03</td>\n",
       "    </tr>\n",
       "    <tr>\n",
       "      <th>bldgtype_Twnhs</th>\n",
       "      <td>-1.570249e+03</td>\n",
       "    </tr>\n",
       "    <tr>\n",
       "      <th>neighborhood_NAmes</th>\n",
       "      <td>-1.603480e+03</td>\n",
       "    </tr>\n",
       "    <tr>\n",
       "      <th>neighborhood_Edwards</th>\n",
       "      <td>-1.684864e+03</td>\n",
       "    </tr>\n",
       "    <tr>\n",
       "      <th>mszoning_RM</th>\n",
       "      <td>-1.701024e+03</td>\n",
       "    </tr>\n",
       "    <tr>\n",
       "      <th>neighborhood_OldTown</th>\n",
       "      <td>-2.260687e+03</td>\n",
       "    </tr>\n",
       "    <tr>\n",
       "      <th>exterior2nd_HdBoard</th>\n",
       "      <td>-2.621010e+03</td>\n",
       "    </tr>\n",
       "    <tr>\n",
       "      <th>bsmtcond</th>\n",
       "      <td>-2.953572e+03</td>\n",
       "    </tr>\n",
       "    <tr>\n",
       "      <th>kitchenabvgr</th>\n",
       "      <td>-4.462174e+03</td>\n",
       "    </tr>\n",
       "    <tr>\n",
       "      <th>exterior1st_Wd Sdng</th>\n",
       "      <td>-4.495044e+03</td>\n",
       "    </tr>\n",
       "    <tr>\n",
       "      <th>masvnrtype_BrkFace</th>\n",
       "      <td>-4.687159e+03</td>\n",
       "    </tr>\n",
       "    <tr>\n",
       "      <th>garagetype_NA</th>\n",
       "      <td>-8.556698e+16</td>\n",
       "    </tr>\n",
       "    <tr>\n",
       "      <th>has_garage</th>\n",
       "      <td>-8.556698e+16</td>\n",
       "    </tr>\n",
       "  </tbody>\n",
       "</table>\n",
       "</div>"
      ],
      "text/plain": [
       "                              coef\n",
       "overallqual           1.651313e+04\n",
       "bsmtfinsf1            1.612337e+04\n",
       "totrmsabvgrd          1.259135e+04\n",
       "bsmtunfsf             7.852197e+03\n",
       "masvnrarea            7.657707e+03\n",
       "fullbath              6.938495e+03\n",
       "neighborhood_NridgHt  6.927514e+03\n",
       "kitchenqual           6.567758e+03\n",
       "garagearea            6.221634e+03\n",
       "neighborhood_StoneBr  6.207971e+03\n",
       "lotarea               5.980472e+03\n",
       "neighborhood_NoRidge  5.370618e+03\n",
       "bsmtexposure          5.305331e+03\n",
       "overallcond           5.040904e+03\n",
       "exterqual             4.955017e+03\n",
       "screenporch           4.737926e+03\n",
       "halfbath              4.484839e+03\n",
       "fireplaces            4.059986e+03\n",
       "lotfrontage           4.050377e+03\n",
       "saletype_New          4.020105e+03\n",
       "exterior2nd_Wd Sdng   3.668021e+03\n",
       "bsmtfullbath          3.258186e+03\n",
       "roofstyle_Hip         3.100340e+03\n",
       "landcontour_HLS       2.681383e+03\n",
       "openporchsf           2.678687e+03\n",
       "garagetype_BuiltIn    2.449346e+03\n",
       "condition1_Norm       2.346934e+03\n",
       "exterior2nd_CmentBd   2.036731e+03\n",
       "garagetype_Detchd     1.991797e+03\n",
       "lotconfig_CulDSac     1.971581e+03\n",
       "wooddecksf            1.877876e+03\n",
       "condition2_PosA       1.627541e+03\n",
       "paveddrive            1.585248e+03\n",
       "functional            1.546397e+03\n",
       "heatingqc             1.352537e+03\n",
       "garagefinish          1.145573e+03\n",
       "neighborhood_Somerst  1.046102e+03\n",
       "yearremod_add         1.038392e+03\n",
       "foundation_Slab       7.236776e+02\n",
       "enclosedporch         6.066632e+02\n",
       "electrical            5.194593e+02\n",
       "neighborhood_BrDale   4.463189e+02\n",
       "has_fence             4.421134e+02\n",
       "condition1_Feedr      3.954802e+02\n",
       "neighborhood_BrkSide  1.836495e+02\n",
       "housestyle_2Story     7.746725e+01\n",
       "exterior2nd_MetalSd   7.751191e+00\n",
       "bsmtfintype1         -1.073151e+02\n",
       "centralair_Y         -1.428079e+02\n",
       "neighborhood_Sawyer  -2.237328e+02\n",
       "exterior2nd_VinylSd  -3.847518e+02\n",
       "saletype_WD          -3.899288e+02\n",
       "has_alley            -5.091369e+02\n",
       "masvnrtype_Stone     -6.143635e+02\n",
       "neighborhood_MeadowV -6.918005e+02\n",
       "garageyrblt          -7.274649e+02\n",
       "neighborhood_Timber  -9.545869e+02\n",
       "lotshape             -1.089408e+03\n",
       "foundation_CBlock    -1.237958e+03\n",
       "neighborhood_IDOTRR  -1.415888e+03\n",
       "bedroomabvgr         -1.565704e+03\n",
       "bldgtype_Twnhs       -1.570249e+03\n",
       "neighborhood_NAmes   -1.603480e+03\n",
       "neighborhood_Edwards -1.684864e+03\n",
       "mszoning_RM          -1.701024e+03\n",
       "neighborhood_OldTown -2.260687e+03\n",
       "exterior2nd_HdBoard  -2.621010e+03\n",
       "bsmtcond             -2.953572e+03\n",
       "kitchenabvgr         -4.462174e+03\n",
       "exterior1st_Wd Sdng  -4.495044e+03\n",
       "masvnrtype_BrkFace   -4.687159e+03\n",
       "garagetype_NA        -8.556698e+16\n",
       "has_garage           -8.556698e+16"
      ]
     },
     "execution_count": 38,
     "metadata": {},
     "output_type": "execute_result"
    }
   ],
   "source": [
    "lr_coef = pd.DataFrame(lr.coef_[0], df_model_train_final.columns)\n",
    "lr_coef.rename(columns={0: 'coef'}, inplace=True)\n",
    "lr_coef.sort_values(by='coef', ascending=False)\n",
    "\n",
    "# for every 1 std deviation unit increase in kitchen qual, the sale price increases by $6567.8"
   ]
  },
  {
   "cell_type": "code",
   "execution_count": 16,
   "metadata": {},
   "outputs": [
    {
     "data": {
      "text/html": [
       "<div>\n",
       "<style scoped>\n",
       "    .dataframe tbody tr th:only-of-type {\n",
       "        vertical-align: middle;\n",
       "    }\n",
       "\n",
       "    .dataframe tbody tr th {\n",
       "        vertical-align: top;\n",
       "    }\n",
       "\n",
       "    .dataframe thead th {\n",
       "        text-align: right;\n",
       "    }\n",
       "</style>\n",
       "<table border=\"1\" class=\"dataframe\">\n",
       "  <thead>\n",
       "    <tr style=\"text-align: right;\">\n",
       "      <th></th>\n",
       "      <th>0</th>\n",
       "    </tr>\n",
       "  </thead>\n",
       "  <tbody>\n",
       "    <tr>\n",
       "      <th>0</th>\n",
       "      <td>142101.990775</td>\n",
       "    </tr>\n",
       "    <tr>\n",
       "      <th>1</th>\n",
       "      <td>241346.946918</td>\n",
       "    </tr>\n",
       "    <tr>\n",
       "      <th>2</th>\n",
       "      <td>153231.293405</td>\n",
       "    </tr>\n",
       "    <tr>\n",
       "      <th>3</th>\n",
       "      <td>158077.554605</td>\n",
       "    </tr>\n",
       "    <tr>\n",
       "      <th>4</th>\n",
       "      <td>223786.946918</td>\n",
       "    </tr>\n",
       "    <tr>\n",
       "      <th>...</th>\n",
       "      <td>...</td>\n",
       "    </tr>\n",
       "    <tr>\n",
       "      <th>1365</th>\n",
       "      <td>113450.883189</td>\n",
       "    </tr>\n",
       "    <tr>\n",
       "      <th>1366</th>\n",
       "      <td>125357.990775</td>\n",
       "    </tr>\n",
       "    <tr>\n",
       "      <th>1367</th>\n",
       "      <td>147943.293405</td>\n",
       "    </tr>\n",
       "    <tr>\n",
       "      <th>1368</th>\n",
       "      <td>223440.843791</td>\n",
       "    </tr>\n",
       "    <tr>\n",
       "      <th>1369</th>\n",
       "      <td>81619.293405</td>\n",
       "    </tr>\n",
       "  </tbody>\n",
       "</table>\n",
       "<p>1370 rows × 1 columns</p>\n",
       "</div>"
      ],
      "text/plain": [
       "                  0\n",
       "0     142101.990775\n",
       "1     241346.946918\n",
       "2     153231.293405\n",
       "3     158077.554605\n",
       "4     223786.946918\n",
       "...             ...\n",
       "1365  113450.883189\n",
       "1366  125357.990775\n",
       "1367  147943.293405\n",
       "1368  223440.843791\n",
       "1369   81619.293405\n",
       "\n",
       "[1370 rows x 1 columns]"
      ]
     },
     "execution_count": 16,
     "metadata": {},
     "output_type": "execute_result"
    }
   ],
   "source": [
    "pd.DataFrame(lr.predict(df_model_train_final))"
   ]
  },
  {
   "cell_type": "markdown",
   "metadata": {},
   "source": [
    "#### Model 2 - Ridge"
   ]
  },
  {
   "cell_type": "code",
   "execution_count": 17,
   "metadata": {},
   "outputs": [
    {
     "data": {
      "text/html": [
       "<style>#sk-container-id-2 {color: black;background-color: white;}#sk-container-id-2 pre{padding: 0;}#sk-container-id-2 div.sk-toggleable {background-color: white;}#sk-container-id-2 label.sk-toggleable__label {cursor: pointer;display: block;width: 100%;margin-bottom: 0;padding: 0.3em;box-sizing: border-box;text-align: center;}#sk-container-id-2 label.sk-toggleable__label-arrow:before {content: \"▸\";float: left;margin-right: 0.25em;color: #696969;}#sk-container-id-2 label.sk-toggleable__label-arrow:hover:before {color: black;}#sk-container-id-2 div.sk-estimator:hover label.sk-toggleable__label-arrow:before {color: black;}#sk-container-id-2 div.sk-toggleable__content {max-height: 0;max-width: 0;overflow: hidden;text-align: left;background-color: #f0f8ff;}#sk-container-id-2 div.sk-toggleable__content pre {margin: 0.2em;color: black;border-radius: 0.25em;background-color: #f0f8ff;}#sk-container-id-2 input.sk-toggleable__control:checked~div.sk-toggleable__content {max-height: 200px;max-width: 100%;overflow: auto;}#sk-container-id-2 input.sk-toggleable__control:checked~label.sk-toggleable__label-arrow:before {content: \"▾\";}#sk-container-id-2 div.sk-estimator input.sk-toggleable__control:checked~label.sk-toggleable__label {background-color: #d4ebff;}#sk-container-id-2 div.sk-label input.sk-toggleable__control:checked~label.sk-toggleable__label {background-color: #d4ebff;}#sk-container-id-2 input.sk-hidden--visually {border: 0;clip: rect(1px 1px 1px 1px);clip: rect(1px, 1px, 1px, 1px);height: 1px;margin: -1px;overflow: hidden;padding: 0;position: absolute;width: 1px;}#sk-container-id-2 div.sk-estimator {font-family: monospace;background-color: #f0f8ff;border: 1px dotted black;border-radius: 0.25em;box-sizing: border-box;margin-bottom: 0.5em;}#sk-container-id-2 div.sk-estimator:hover {background-color: #d4ebff;}#sk-container-id-2 div.sk-parallel-item::after {content: \"\";width: 100%;border-bottom: 1px solid gray;flex-grow: 1;}#sk-container-id-2 div.sk-label:hover label.sk-toggleable__label {background-color: #d4ebff;}#sk-container-id-2 div.sk-serial::before {content: \"\";position: absolute;border-left: 1px solid gray;box-sizing: border-box;top: 0;bottom: 0;left: 50%;z-index: 0;}#sk-container-id-2 div.sk-serial {display: flex;flex-direction: column;align-items: center;background-color: white;padding-right: 0.2em;padding-left: 0.2em;position: relative;}#sk-container-id-2 div.sk-item {position: relative;z-index: 1;}#sk-container-id-2 div.sk-parallel {display: flex;align-items: stretch;justify-content: center;background-color: white;position: relative;}#sk-container-id-2 div.sk-item::before, #sk-container-id-2 div.sk-parallel-item::before {content: \"\";position: absolute;border-left: 1px solid gray;box-sizing: border-box;top: 0;bottom: 0;left: 50%;z-index: -1;}#sk-container-id-2 div.sk-parallel-item {display: flex;flex-direction: column;z-index: 1;position: relative;background-color: white;}#sk-container-id-2 div.sk-parallel-item:first-child::after {align-self: flex-end;width: 50%;}#sk-container-id-2 div.sk-parallel-item:last-child::after {align-self: flex-start;width: 50%;}#sk-container-id-2 div.sk-parallel-item:only-child::after {width: 0;}#sk-container-id-2 div.sk-dashed-wrapped {border: 1px dashed gray;margin: 0 0.4em 0.5em 0.4em;box-sizing: border-box;padding-bottom: 0.4em;background-color: white;}#sk-container-id-2 div.sk-label label {font-family: monospace;font-weight: bold;display: inline-block;line-height: 1.2em;}#sk-container-id-2 div.sk-label-container {text-align: center;}#sk-container-id-2 div.sk-container {/* jupyter's `normalize.less` sets `[hidden] { display: none; }` but bootstrap.min.css set `[hidden] { display: none !important; }` so we also need the `!important` here to be able to override the default hidden behavior on the sphinx rendered scikit-learn.org. See: https://github.com/scikit-learn/scikit-learn/issues/21755 */display: inline-block !important;position: relative;}#sk-container-id-2 div.sk-text-repr-fallback {display: none;}</style><div id=\"sk-container-id-2\" class=\"sk-top-container\"><div class=\"sk-text-repr-fallback\"><pre>RidgeCV(alphas=array([1.00000000e+00, 1.12332403e+00, 1.26185688e+00, 1.41747416e+00,\n",
       "       1.59228279e+00, 1.78864953e+00, 2.00923300e+00, 2.25701972e+00,\n",
       "       2.53536449e+00, 2.84803587e+00, 3.19926714e+00, 3.59381366e+00,\n",
       "       4.03701726e+00, 4.53487851e+00, 5.09413801e+00, 5.72236766e+00,\n",
       "       6.42807312e+00, 7.22080902e+00, 8.11130831e+00, 9.11162756e+00,\n",
       "       1.02353102e+01, 1.14975700e+0...\n",
       "       6.89261210e+03, 7.74263683e+03, 8.69749003e+03, 9.77009957e+03,\n",
       "       1.09749877e+04, 1.23284674e+04, 1.38488637e+04, 1.55567614e+04,\n",
       "       1.74752840e+04, 1.96304065e+04, 2.20513074e+04, 2.47707636e+04,\n",
       "       2.78255940e+04, 3.12571585e+04, 3.51119173e+04, 3.94420606e+04,\n",
       "       4.43062146e+04, 4.97702356e+04, 5.59081018e+04, 6.28029144e+04,\n",
       "       7.05480231e+04, 7.92482898e+04, 8.90215085e+04, 1.00000000e+05]),\n",
       "        scoring=&#x27;r2&#x27;)</pre><b>In a Jupyter environment, please rerun this cell to show the HTML representation or trust the notebook. <br />On GitHub, the HTML representation is unable to render, please try loading this page with nbviewer.org.</b></div><div class=\"sk-container\" hidden><div class=\"sk-item\"><div class=\"sk-estimator sk-toggleable\"><input class=\"sk-toggleable__control sk-hidden--visually\" id=\"sk-estimator-id-2\" type=\"checkbox\" checked><label for=\"sk-estimator-id-2\" class=\"sk-toggleable__label sk-toggleable__label-arrow\">RidgeCV</label><div class=\"sk-toggleable__content\"><pre>RidgeCV(alphas=array([1.00000000e+00, 1.12332403e+00, 1.26185688e+00, 1.41747416e+00,\n",
       "       1.59228279e+00, 1.78864953e+00, 2.00923300e+00, 2.25701972e+00,\n",
       "       2.53536449e+00, 2.84803587e+00, 3.19926714e+00, 3.59381366e+00,\n",
       "       4.03701726e+00, 4.53487851e+00, 5.09413801e+00, 5.72236766e+00,\n",
       "       6.42807312e+00, 7.22080902e+00, 8.11130831e+00, 9.11162756e+00,\n",
       "       1.02353102e+01, 1.14975700e+0...\n",
       "       6.89261210e+03, 7.74263683e+03, 8.69749003e+03, 9.77009957e+03,\n",
       "       1.09749877e+04, 1.23284674e+04, 1.38488637e+04, 1.55567614e+04,\n",
       "       1.74752840e+04, 1.96304065e+04, 2.20513074e+04, 2.47707636e+04,\n",
       "       2.78255940e+04, 3.12571585e+04, 3.51119173e+04, 3.94420606e+04,\n",
       "       4.43062146e+04, 4.97702356e+04, 5.59081018e+04, 6.28029144e+04,\n",
       "       7.05480231e+04, 7.92482898e+04, 8.90215085e+04, 1.00000000e+05]),\n",
       "        scoring=&#x27;r2&#x27;)</pre></div></div></div></div></div>"
      ],
      "text/plain": [
       "RidgeCV(alphas=array([1.00000000e+00, 1.12332403e+00, 1.26185688e+00, 1.41747416e+00,\n",
       "       1.59228279e+00, 1.78864953e+00, 2.00923300e+00, 2.25701972e+00,\n",
       "       2.53536449e+00, 2.84803587e+00, 3.19926714e+00, 3.59381366e+00,\n",
       "       4.03701726e+00, 4.53487851e+00, 5.09413801e+00, 5.72236766e+00,\n",
       "       6.42807312e+00, 7.22080902e+00, 8.11130831e+00, 9.11162756e+00,\n",
       "       1.02353102e+01, 1.14975700e+0...\n",
       "       6.89261210e+03, 7.74263683e+03, 8.69749003e+03, 9.77009957e+03,\n",
       "       1.09749877e+04, 1.23284674e+04, 1.38488637e+04, 1.55567614e+04,\n",
       "       1.74752840e+04, 1.96304065e+04, 2.20513074e+04, 2.47707636e+04,\n",
       "       2.78255940e+04, 3.12571585e+04, 3.51119173e+04, 3.94420606e+04,\n",
       "       4.43062146e+04, 4.97702356e+04, 5.59081018e+04, 6.28029144e+04,\n",
       "       7.05480231e+04, 7.92482898e+04, 8.90215085e+04, 1.00000000e+05]),\n",
       "        scoring='r2')"
      ]
     },
     "execution_count": 17,
     "metadata": {},
     "output_type": "execute_result"
    }
   ],
   "source": [
    "# create alphas to try in model\n",
    "r_alphas = np.logspace(0,5,100)\n",
    "\n",
    "#instantiate ridgeCV model\n",
    "ridge_cv = RidgeCV(alphas = r_alphas, scoring = 'r2')\n",
    "\n",
    "#fit on x train data\n",
    "ridge_cv.fit(df_model_train_final, y_train)"
   ]
  },
  {
   "cell_type": "code",
   "execution_count": 18,
   "metadata": {},
   "outputs": [
    {
     "data": {
      "text/plain": [
       "73.90722033525779"
      ]
     },
     "execution_count": 18,
     "metadata": {},
     "output_type": "execute_result"
    }
   ],
   "source": [
    "# Here is the optimal value of alpha - the val of alpha that gave the best cross val mean score of the alphas we tries\n",
    "ridge_cv.alpha_"
   ]
  },
  {
   "cell_type": "code",
   "execution_count": 19,
   "metadata": {},
   "outputs": [
    {
     "name": "stdout",
     "output_type": "stream",
     "text": [
      "RidgeCV train r2: 0.9028480235996731\n",
      "RidgeCV test r2: 0.8830308527456264\n"
     ]
    }
   ],
   "source": [
    "print(f\"RidgeCV train r2: {ridge_cv.score(df_model_train_final, y_train)}\") \n",
    "print(f\"RidgeCV test r2: {ridge_cv.score(df_model_test_final, y_test)}\")"
   ]
  },
  {
   "cell_type": "code",
   "execution_count": 20,
   "metadata": {},
   "outputs": [
    {
     "data": {
      "text/plain": [
       "24824.566532863006"
      ]
     },
     "execution_count": 20,
     "metadata": {},
     "output_type": "execute_result"
    }
   ],
   "source": [
    "ridge_preds = ridge_cv.predict(df_model_train_final)\n",
    "RMSE_ridge_train = mean_squared_error(y_train, ridge_preds, squared=False)\n",
    "RMSE_ridge_train"
   ]
  },
  {
   "cell_type": "code",
   "execution_count": 21,
   "metadata": {},
   "outputs": [
    {
     "data": {
      "text/plain": [
       "26844.797990760137"
      ]
     },
     "execution_count": 21,
     "metadata": {},
     "output_type": "execute_result"
    }
   ],
   "source": [
    "ridgetest_preds = ridge_cv.predict(df_model_test_final)\n",
    "RMSE_ridge_test = mean_squared_error(y_test, ridgetest_preds, squared=False)\n",
    "RMSE_ridge_test\n",
    "\n",
    "# ridge model is better than our baseline"
   ]
  },
  {
   "cell_type": "code",
   "execution_count": 22,
   "metadata": {},
   "outputs": [
    {
     "name": "stdout",
     "output_type": "stream",
     "text": [
      "-----RidgeCV----- \n",
      "rmse train: 24824.566532863006\n",
      "rmse test: 26844.797990760137\n",
      "r2 train: 0.9036883527932799\n",
      "r2 test: 0.8839212571741166\n"
     ]
    }
   ],
   "source": [
    "print(\"-----RidgeCV----- \")\n",
    "print('rmse train:', RMSE_ridge_train)\n",
    "print('rmse test:', RMSE_ridge_test)\n",
    "print('r2 train:', lr.score(df_model_train_final, y_train))\n",
    "print('r2 test:', lr.score(df_model_test_final, y_test))"
   ]
  },
  {
   "cell_type": "markdown",
   "metadata": {},
   "source": [
    "#### Model 3 - ElasticNet"
   ]
  },
  {
   "cell_type": "code",
   "execution_count": 23,
   "metadata": {},
   "outputs": [],
   "source": [
    "from sklearn.linear_model import ElasticNet, ElasticNetCV"
   ]
  },
  {
   "cell_type": "code",
   "execution_count": 24,
   "metadata": {},
   "outputs": [
    {
     "data": {
      "text/html": [
       "<style>#sk-container-id-3 {color: black;background-color: white;}#sk-container-id-3 pre{padding: 0;}#sk-container-id-3 div.sk-toggleable {background-color: white;}#sk-container-id-3 label.sk-toggleable__label {cursor: pointer;display: block;width: 100%;margin-bottom: 0;padding: 0.3em;box-sizing: border-box;text-align: center;}#sk-container-id-3 label.sk-toggleable__label-arrow:before {content: \"▸\";float: left;margin-right: 0.25em;color: #696969;}#sk-container-id-3 label.sk-toggleable__label-arrow:hover:before {color: black;}#sk-container-id-3 div.sk-estimator:hover label.sk-toggleable__label-arrow:before {color: black;}#sk-container-id-3 div.sk-toggleable__content {max-height: 0;max-width: 0;overflow: hidden;text-align: left;background-color: #f0f8ff;}#sk-container-id-3 div.sk-toggleable__content pre {margin: 0.2em;color: black;border-radius: 0.25em;background-color: #f0f8ff;}#sk-container-id-3 input.sk-toggleable__control:checked~div.sk-toggleable__content {max-height: 200px;max-width: 100%;overflow: auto;}#sk-container-id-3 input.sk-toggleable__control:checked~label.sk-toggleable__label-arrow:before {content: \"▾\";}#sk-container-id-3 div.sk-estimator input.sk-toggleable__control:checked~label.sk-toggleable__label {background-color: #d4ebff;}#sk-container-id-3 div.sk-label input.sk-toggleable__control:checked~label.sk-toggleable__label {background-color: #d4ebff;}#sk-container-id-3 input.sk-hidden--visually {border: 0;clip: rect(1px 1px 1px 1px);clip: rect(1px, 1px, 1px, 1px);height: 1px;margin: -1px;overflow: hidden;padding: 0;position: absolute;width: 1px;}#sk-container-id-3 div.sk-estimator {font-family: monospace;background-color: #f0f8ff;border: 1px dotted black;border-radius: 0.25em;box-sizing: border-box;margin-bottom: 0.5em;}#sk-container-id-3 div.sk-estimator:hover {background-color: #d4ebff;}#sk-container-id-3 div.sk-parallel-item::after {content: \"\";width: 100%;border-bottom: 1px solid gray;flex-grow: 1;}#sk-container-id-3 div.sk-label:hover label.sk-toggleable__label {background-color: #d4ebff;}#sk-container-id-3 div.sk-serial::before {content: \"\";position: absolute;border-left: 1px solid gray;box-sizing: border-box;top: 0;bottom: 0;left: 50%;z-index: 0;}#sk-container-id-3 div.sk-serial {display: flex;flex-direction: column;align-items: center;background-color: white;padding-right: 0.2em;padding-left: 0.2em;position: relative;}#sk-container-id-3 div.sk-item {position: relative;z-index: 1;}#sk-container-id-3 div.sk-parallel {display: flex;align-items: stretch;justify-content: center;background-color: white;position: relative;}#sk-container-id-3 div.sk-item::before, #sk-container-id-3 div.sk-parallel-item::before {content: \"\";position: absolute;border-left: 1px solid gray;box-sizing: border-box;top: 0;bottom: 0;left: 50%;z-index: -1;}#sk-container-id-3 div.sk-parallel-item {display: flex;flex-direction: column;z-index: 1;position: relative;background-color: white;}#sk-container-id-3 div.sk-parallel-item:first-child::after {align-self: flex-end;width: 50%;}#sk-container-id-3 div.sk-parallel-item:last-child::after {align-self: flex-start;width: 50%;}#sk-container-id-3 div.sk-parallel-item:only-child::after {width: 0;}#sk-container-id-3 div.sk-dashed-wrapped {border: 1px dashed gray;margin: 0 0.4em 0.5em 0.4em;box-sizing: border-box;padding-bottom: 0.4em;background-color: white;}#sk-container-id-3 div.sk-label label {font-family: monospace;font-weight: bold;display: inline-block;line-height: 1.2em;}#sk-container-id-3 div.sk-label-container {text-align: center;}#sk-container-id-3 div.sk-container {/* jupyter's `normalize.less` sets `[hidden] { display: none; }` but bootstrap.min.css set `[hidden] { display: none !important; }` so we also need the `!important` here to be able to override the default hidden behavior on the sphinx rendered scikit-learn.org. See: https://github.com/scikit-learn/scikit-learn/issues/21755 */display: inline-block !important;position: relative;}#sk-container-id-3 div.sk-text-repr-fallback {display: none;}</style><div id=\"sk-container-id-3\" class=\"sk-top-container\"><div class=\"sk-text-repr-fallback\"><pre>ElasticNetCV(alphas=array([0.01      , 0.0179798 , 0.0259596 , 0.03393939, 0.04191919,\n",
       "       0.04989899, 0.05787879, 0.06585859, 0.07383838, 0.08181818,\n",
       "       0.08979798, 0.09777778, 0.10575758, 0.11373737, 0.12171717,\n",
       "       0.12969697, 0.13767677, 0.14565657, 0.15363636, 0.16161616,\n",
       "       0.16959596, 0.17757576, 0.18555556, 0.19353535, 0.20151515,\n",
       "       0.20949495, 0.21747475, 0.22545455, 0.23343434, 0.24141414,\n",
       "       0...\n",
       "       0.56858586, 0.57656566, 0.58454545, 0.59252525, 0.60050505,\n",
       "       0.60848485, 0.61646465, 0.62444444, 0.63242424, 0.64040404,\n",
       "       0.64838384, 0.65636364, 0.66434343, 0.67232323, 0.68030303,\n",
       "       0.68828283, 0.69626263, 0.70424242, 0.71222222, 0.72020202,\n",
       "       0.72818182, 0.73616162, 0.74414141, 0.75212121, 0.76010101,\n",
       "       0.76808081, 0.77606061, 0.7840404 , 0.7920202 , 0.8       ]),\n",
       "             cv=5, l1_ratio=0.05, max_iter=3000, n_jobs=-1)</pre><b>In a Jupyter environment, please rerun this cell to show the HTML representation or trust the notebook. <br />On GitHub, the HTML representation is unable to render, please try loading this page with nbviewer.org.</b></div><div class=\"sk-container\" hidden><div class=\"sk-item\"><div class=\"sk-estimator sk-toggleable\"><input class=\"sk-toggleable__control sk-hidden--visually\" id=\"sk-estimator-id-3\" type=\"checkbox\" checked><label for=\"sk-estimator-id-3\" class=\"sk-toggleable__label sk-toggleable__label-arrow\">ElasticNetCV</label><div class=\"sk-toggleable__content\"><pre>ElasticNetCV(alphas=array([0.01      , 0.0179798 , 0.0259596 , 0.03393939, 0.04191919,\n",
       "       0.04989899, 0.05787879, 0.06585859, 0.07383838, 0.08181818,\n",
       "       0.08979798, 0.09777778, 0.10575758, 0.11373737, 0.12171717,\n",
       "       0.12969697, 0.13767677, 0.14565657, 0.15363636, 0.16161616,\n",
       "       0.16959596, 0.17757576, 0.18555556, 0.19353535, 0.20151515,\n",
       "       0.20949495, 0.21747475, 0.22545455, 0.23343434, 0.24141414,\n",
       "       0...\n",
       "       0.56858586, 0.57656566, 0.58454545, 0.59252525, 0.60050505,\n",
       "       0.60848485, 0.61646465, 0.62444444, 0.63242424, 0.64040404,\n",
       "       0.64838384, 0.65636364, 0.66434343, 0.67232323, 0.68030303,\n",
       "       0.68828283, 0.69626263, 0.70424242, 0.71222222, 0.72020202,\n",
       "       0.72818182, 0.73616162, 0.74414141, 0.75212121, 0.76010101,\n",
       "       0.76808081, 0.77606061, 0.7840404 , 0.7920202 , 0.8       ]),\n",
       "             cv=5, l1_ratio=0.05, max_iter=3000, n_jobs=-1)</pre></div></div></div></div></div>"
      ],
      "text/plain": [
       "ElasticNetCV(alphas=array([0.01      , 0.0179798 , 0.0259596 , 0.03393939, 0.04191919,\n",
       "       0.04989899, 0.05787879, 0.06585859, 0.07383838, 0.08181818,\n",
       "       0.08979798, 0.09777778, 0.10575758, 0.11373737, 0.12171717,\n",
       "       0.12969697, 0.13767677, 0.14565657, 0.15363636, 0.16161616,\n",
       "       0.16959596, 0.17757576, 0.18555556, 0.19353535, 0.20151515,\n",
       "       0.20949495, 0.21747475, 0.22545455, 0.23343434, 0.24141414,\n",
       "       0...\n",
       "       0.56858586, 0.57656566, 0.58454545, 0.59252525, 0.60050505,\n",
       "       0.60848485, 0.61646465, 0.62444444, 0.63242424, 0.64040404,\n",
       "       0.64838384, 0.65636364, 0.66434343, 0.67232323, 0.68030303,\n",
       "       0.68828283, 0.69626263, 0.70424242, 0.71222222, 0.72020202,\n",
       "       0.72818182, 0.73616162, 0.74414141, 0.75212121, 0.76010101,\n",
       "       0.76808081, 0.77606061, 0.7840404 , 0.7920202 , 0.8       ]),\n",
       "             cv=5, l1_ratio=0.05, max_iter=3000, n_jobs=-1)"
      ]
     },
     "execution_count": 24,
     "metadata": {},
     "output_type": "execute_result"
    }
   ],
   "source": [
    "# Set up a list of alphas to check.\n",
    "enet_alphas = np.linspace(0.01,0.8,100)  #(0.01, 1,100)\n",
    "# if your optimal alpha is at the top or bottom of range, it indicates that you should try out different values vs if it was in middle of range\n",
    "\n",
    "# Set up our l1 ratio.\n",
    "# 0.05 ridge 0.95 lasso\n",
    "enet_ratio = 0.05  #0.15, 0.40\n",
    "\n",
    "# Instantiate model.\n",
    "enet_model = ElasticNetCV(alphas=enet_alphas, l1_ratio=enet_ratio, cv=5, max_iter=3000, n_jobs=-1)\n",
    "\n",
    "# Fit model using optimal alpha.\n",
    "enet_model.fit(df_model_train_final, y_train)"
   ]
  },
  {
   "cell_type": "code",
   "execution_count": 25,
   "metadata": {},
   "outputs": [
    {
     "name": "stdout",
     "output_type": "stream",
     "text": [
      "0.06585858585858587\n"
     ]
    }
   ],
   "source": [
    "print(enet_model.alpha_)   #print the optimal value of alpha"
   ]
  },
  {
   "cell_type": "code",
   "execution_count": 26,
   "metadata": {},
   "outputs": [
    {
     "data": {
      "text/html": [
       "<div>\n",
       "<style scoped>\n",
       "    .dataframe tbody tr th:only-of-type {\n",
       "        vertical-align: middle;\n",
       "    }\n",
       "\n",
       "    .dataframe tbody tr th {\n",
       "        vertical-align: top;\n",
       "    }\n",
       "\n",
       "    .dataframe thead th {\n",
       "        text-align: right;\n",
       "    }\n",
       "</style>\n",
       "<table border=\"1\" class=\"dataframe\">\n",
       "  <thead>\n",
       "    <tr style=\"text-align: right;\">\n",
       "      <th></th>\n",
       "      <th>0</th>\n",
       "    </tr>\n",
       "  </thead>\n",
       "  <tbody>\n",
       "    <tr>\n",
       "      <th>0</th>\n",
       "      <td>142244.297466</td>\n",
       "    </tr>\n",
       "    <tr>\n",
       "      <th>1</th>\n",
       "      <td>242189.252305</td>\n",
       "    </tr>\n",
       "    <tr>\n",
       "      <th>2</th>\n",
       "      <td>155816.838074</td>\n",
       "    </tr>\n",
       "    <tr>\n",
       "      <th>3</th>\n",
       "      <td>159241.791420</td>\n",
       "    </tr>\n",
       "    <tr>\n",
       "      <th>4</th>\n",
       "      <td>226222.123239</td>\n",
       "    </tr>\n",
       "    <tr>\n",
       "      <th>...</th>\n",
       "      <td>...</td>\n",
       "    </tr>\n",
       "    <tr>\n",
       "      <th>1365</th>\n",
       "      <td>112494.001313</td>\n",
       "    </tr>\n",
       "    <tr>\n",
       "      <th>1366</th>\n",
       "      <td>121707.550386</td>\n",
       "    </tr>\n",
       "    <tr>\n",
       "      <th>1367</th>\n",
       "      <td>146185.825748</td>\n",
       "    </tr>\n",
       "    <tr>\n",
       "      <th>1368</th>\n",
       "      <td>217954.694436</td>\n",
       "    </tr>\n",
       "    <tr>\n",
       "      <th>1369</th>\n",
       "      <td>83433.331265</td>\n",
       "    </tr>\n",
       "  </tbody>\n",
       "</table>\n",
       "<p>1370 rows × 1 columns</p>\n",
       "</div>"
      ],
      "text/plain": [
       "                  0\n",
       "0     142244.297466\n",
       "1     242189.252305\n",
       "2     155816.838074\n",
       "3     159241.791420\n",
       "4     226222.123239\n",
       "...             ...\n",
       "1365  112494.001313\n",
       "1366  121707.550386\n",
       "1367  146185.825748\n",
       "1368  217954.694436\n",
       "1369   83433.331265\n",
       "\n",
       "[1370 rows x 1 columns]"
      ]
     },
     "execution_count": 26,
     "metadata": {},
     "output_type": "execute_result"
    }
   ],
   "source": [
    "pd.DataFrame(enet_model.predict(df_model_train_final))"
   ]
  },
  {
   "cell_type": "code",
   "execution_count": 27,
   "metadata": {},
   "outputs": [
    {
     "name": "stdout",
     "output_type": "stream",
     "text": [
      "rmse train: 24853.6019255395\n",
      "rmse test: 26872.022486436836\n",
      "r2 train:  0.9026206282537046\n",
      "r2 test:  0.8827934852840869\n"
     ]
    }
   ],
   "source": [
    "# Generate predictions\n",
    "enet_preds = enet_model.predict(df_model_train_final)\n",
    "enet_test_preds = enet_model.predict(df_model_test_final)\n",
    "\n",
    "# Evaluate model\n",
    "print('rmse train:', mean_squared_error(y_train, enet_preds, squared=False))\n",
    "print('rmse test:', mean_squared_error(y_test, enet_test_preds, squared=False))\n",
    "print('r2 train: ', enet_model.score(df_model_train_final, y_train))\n",
    "print('r2 test: ', enet_model.score(df_model_test_final, y_test))"
   ]
  },
  {
   "cell_type": "markdown",
   "metadata": {},
   "source": [
    "#### Model 4 - GridSearchCV w/ estimator - Lasso"
   ]
  },
  {
   "cell_type": "code",
   "execution_count": 28,
   "metadata": {},
   "outputs": [],
   "source": [
    "#instantiate lasso\n",
    "lasso = Lasso()\n",
    "\n",
    "#instantiate gridsearch cv\n",
    "# there are 20 alphas equally spaced between 10**0 to 10**5\n",
    "params = {'alpha': np.logspace(2,4,50)}  # np.logspace(-2,3,20) / np.logspace(1,3,20)\n",
    "gs = GridSearchCV(\n",
    "        estimator = lasso,\n",
    "        param_grid = params,\n",
    "        n_jobs=-1)"
   ]
  },
  {
   "cell_type": "code",
   "execution_count": 29,
   "metadata": {},
   "outputs": [
    {
     "data": {
      "text/html": [
       "<style>#sk-container-id-4 {color: black;background-color: white;}#sk-container-id-4 pre{padding: 0;}#sk-container-id-4 div.sk-toggleable {background-color: white;}#sk-container-id-4 label.sk-toggleable__label {cursor: pointer;display: block;width: 100%;margin-bottom: 0;padding: 0.3em;box-sizing: border-box;text-align: center;}#sk-container-id-4 label.sk-toggleable__label-arrow:before {content: \"▸\";float: left;margin-right: 0.25em;color: #696969;}#sk-container-id-4 label.sk-toggleable__label-arrow:hover:before {color: black;}#sk-container-id-4 div.sk-estimator:hover label.sk-toggleable__label-arrow:before {color: black;}#sk-container-id-4 div.sk-toggleable__content {max-height: 0;max-width: 0;overflow: hidden;text-align: left;background-color: #f0f8ff;}#sk-container-id-4 div.sk-toggleable__content pre {margin: 0.2em;color: black;border-radius: 0.25em;background-color: #f0f8ff;}#sk-container-id-4 input.sk-toggleable__control:checked~div.sk-toggleable__content {max-height: 200px;max-width: 100%;overflow: auto;}#sk-container-id-4 input.sk-toggleable__control:checked~label.sk-toggleable__label-arrow:before {content: \"▾\";}#sk-container-id-4 div.sk-estimator input.sk-toggleable__control:checked~label.sk-toggleable__label {background-color: #d4ebff;}#sk-container-id-4 div.sk-label input.sk-toggleable__control:checked~label.sk-toggleable__label {background-color: #d4ebff;}#sk-container-id-4 input.sk-hidden--visually {border: 0;clip: rect(1px 1px 1px 1px);clip: rect(1px, 1px, 1px, 1px);height: 1px;margin: -1px;overflow: hidden;padding: 0;position: absolute;width: 1px;}#sk-container-id-4 div.sk-estimator {font-family: monospace;background-color: #f0f8ff;border: 1px dotted black;border-radius: 0.25em;box-sizing: border-box;margin-bottom: 0.5em;}#sk-container-id-4 div.sk-estimator:hover {background-color: #d4ebff;}#sk-container-id-4 div.sk-parallel-item::after {content: \"\";width: 100%;border-bottom: 1px solid gray;flex-grow: 1;}#sk-container-id-4 div.sk-label:hover label.sk-toggleable__label {background-color: #d4ebff;}#sk-container-id-4 div.sk-serial::before {content: \"\";position: absolute;border-left: 1px solid gray;box-sizing: border-box;top: 0;bottom: 0;left: 50%;z-index: 0;}#sk-container-id-4 div.sk-serial {display: flex;flex-direction: column;align-items: center;background-color: white;padding-right: 0.2em;padding-left: 0.2em;position: relative;}#sk-container-id-4 div.sk-item {position: relative;z-index: 1;}#sk-container-id-4 div.sk-parallel {display: flex;align-items: stretch;justify-content: center;background-color: white;position: relative;}#sk-container-id-4 div.sk-item::before, #sk-container-id-4 div.sk-parallel-item::before {content: \"\";position: absolute;border-left: 1px solid gray;box-sizing: border-box;top: 0;bottom: 0;left: 50%;z-index: -1;}#sk-container-id-4 div.sk-parallel-item {display: flex;flex-direction: column;z-index: 1;position: relative;background-color: white;}#sk-container-id-4 div.sk-parallel-item:first-child::after {align-self: flex-end;width: 50%;}#sk-container-id-4 div.sk-parallel-item:last-child::after {align-self: flex-start;width: 50%;}#sk-container-id-4 div.sk-parallel-item:only-child::after {width: 0;}#sk-container-id-4 div.sk-dashed-wrapped {border: 1px dashed gray;margin: 0 0.4em 0.5em 0.4em;box-sizing: border-box;padding-bottom: 0.4em;background-color: white;}#sk-container-id-4 div.sk-label label {font-family: monospace;font-weight: bold;display: inline-block;line-height: 1.2em;}#sk-container-id-4 div.sk-label-container {text-align: center;}#sk-container-id-4 div.sk-container {/* jupyter's `normalize.less` sets `[hidden] { display: none; }` but bootstrap.min.css set `[hidden] { display: none !important; }` so we also need the `!important` here to be able to override the default hidden behavior on the sphinx rendered scikit-learn.org. See: https://github.com/scikit-learn/scikit-learn/issues/21755 */display: inline-block !important;position: relative;}#sk-container-id-4 div.sk-text-repr-fallback {display: none;}</style><div id=\"sk-container-id-4\" class=\"sk-top-container\"><div class=\"sk-text-repr-fallback\"><pre>GridSearchCV(estimator=Lasso(), n_jobs=-1,\n",
       "             param_grid={&#x27;alpha&#x27;: array([  100.        ,   109.8541142 ,   120.67926406,   132.57113656,\n",
       "         145.63484775,   159.98587196,   175.75106249,   193.06977289,\n",
       "         212.09508879,   232.99518105,   255.95479227,   281.1768698 ,\n",
       "         308.88435965,   339.32217719,   372.75937203,   409.49150624,\n",
       "         449.8432669 ,   494.17133613,   542.86754393,   596.36233166,\n",
       "         655.12855686,   719.685673  ,   790.60432...\n",
       "         954.09547635,  1048.11313415,  1151.39539933,  1264.85521686,\n",
       "        1389.49549437,  1526.41796718,  1676.83293681,  1842.06996933,\n",
       "        2023.58964773,  2222.99648253,  2442.05309455,  2682.69579528,\n",
       "        2947.05170255,  3237.45754282,  3556.48030622,  3906.93993705,\n",
       "        4291.93426013,  4714.86636346,  5179.47467923,  5689.86602902,\n",
       "        6250.55192527,  6866.48845004,  7543.12006335,  8286.42772855,\n",
       "        9102.98177992, 10000.        ])})</pre><b>In a Jupyter environment, please rerun this cell to show the HTML representation or trust the notebook. <br />On GitHub, the HTML representation is unable to render, please try loading this page with nbviewer.org.</b></div><div class=\"sk-container\" hidden><div class=\"sk-item sk-dashed-wrapped\"><div class=\"sk-label-container\"><div class=\"sk-label sk-toggleable\"><input class=\"sk-toggleable__control sk-hidden--visually\" id=\"sk-estimator-id-4\" type=\"checkbox\" ><label for=\"sk-estimator-id-4\" class=\"sk-toggleable__label sk-toggleable__label-arrow\">GridSearchCV</label><div class=\"sk-toggleable__content\"><pre>GridSearchCV(estimator=Lasso(), n_jobs=-1,\n",
       "             param_grid={&#x27;alpha&#x27;: array([  100.        ,   109.8541142 ,   120.67926406,   132.57113656,\n",
       "         145.63484775,   159.98587196,   175.75106249,   193.06977289,\n",
       "         212.09508879,   232.99518105,   255.95479227,   281.1768698 ,\n",
       "         308.88435965,   339.32217719,   372.75937203,   409.49150624,\n",
       "         449.8432669 ,   494.17133613,   542.86754393,   596.36233166,\n",
       "         655.12855686,   719.685673  ,   790.60432...\n",
       "         954.09547635,  1048.11313415,  1151.39539933,  1264.85521686,\n",
       "        1389.49549437,  1526.41796718,  1676.83293681,  1842.06996933,\n",
       "        2023.58964773,  2222.99648253,  2442.05309455,  2682.69579528,\n",
       "        2947.05170255,  3237.45754282,  3556.48030622,  3906.93993705,\n",
       "        4291.93426013,  4714.86636346,  5179.47467923,  5689.86602902,\n",
       "        6250.55192527,  6866.48845004,  7543.12006335,  8286.42772855,\n",
       "        9102.98177992, 10000.        ])})</pre></div></div></div><div class=\"sk-parallel\"><div class=\"sk-parallel-item\"><div class=\"sk-item\"><div class=\"sk-label-container\"><div class=\"sk-label sk-toggleable\"><input class=\"sk-toggleable__control sk-hidden--visually\" id=\"sk-estimator-id-5\" type=\"checkbox\" ><label for=\"sk-estimator-id-5\" class=\"sk-toggleable__label sk-toggleable__label-arrow\">estimator: Lasso</label><div class=\"sk-toggleable__content\"><pre>Lasso()</pre></div></div></div><div class=\"sk-serial\"><div class=\"sk-item\"><div class=\"sk-estimator sk-toggleable\"><input class=\"sk-toggleable__control sk-hidden--visually\" id=\"sk-estimator-id-6\" type=\"checkbox\" ><label for=\"sk-estimator-id-6\" class=\"sk-toggleable__label sk-toggleable__label-arrow\">Lasso</label><div class=\"sk-toggleable__content\"><pre>Lasso()</pre></div></div></div></div></div></div></div></div></div></div>"
      ],
      "text/plain": [
       "GridSearchCV(estimator=Lasso(), n_jobs=-1,\n",
       "             param_grid={'alpha': array([  100.        ,   109.8541142 ,   120.67926406,   132.57113656,\n",
       "         145.63484775,   159.98587196,   175.75106249,   193.06977289,\n",
       "         212.09508879,   232.99518105,   255.95479227,   281.1768698 ,\n",
       "         308.88435965,   339.32217719,   372.75937203,   409.49150624,\n",
       "         449.8432669 ,   494.17133613,   542.86754393,   596.36233166,\n",
       "         655.12855686,   719.685673  ,   790.60432...\n",
       "         954.09547635,  1048.11313415,  1151.39539933,  1264.85521686,\n",
       "        1389.49549437,  1526.41796718,  1676.83293681,  1842.06996933,\n",
       "        2023.58964773,  2222.99648253,  2442.05309455,  2682.69579528,\n",
       "        2947.05170255,  3237.45754282,  3556.48030622,  3906.93993705,\n",
       "        4291.93426013,  4714.86636346,  5179.47467923,  5689.86602902,\n",
       "        6250.55192527,  6866.48845004,  7543.12006335,  8286.42772855,\n",
       "        9102.98177992, 10000.        ])})"
      ]
     },
     "execution_count": 29,
     "metadata": {},
     "output_type": "execute_result"
    }
   ],
   "source": [
    "gs.fit(df_model_train_final, y_train)"
   ]
  },
  {
   "cell_type": "code",
   "execution_count": 30,
   "metadata": {},
   "outputs": [
    {
     "data": {
      "text/plain": [
       "0.9032879838592556"
      ]
     },
     "execution_count": 30,
     "metadata": {},
     "output_type": "execute_result"
    }
   ],
   "source": [
    "gs.score(df_model_train_final,y_train)"
   ]
  },
  {
   "cell_type": "code",
   "execution_count": 31,
   "metadata": {},
   "outputs": [
    {
     "data": {
      "text/plain": [
       "0.8836262901855279"
      ]
     },
     "execution_count": 31,
     "metadata": {},
     "output_type": "execute_result"
    }
   ],
   "source": [
    "gs.score(df_model_test_final,y_test)"
   ]
  },
  {
   "cell_type": "code",
   "execution_count": 32,
   "metadata": {},
   "outputs": [
    {
     "data": {
      "text/plain": [
       "{'alpha': 145.63484775012444}"
      ]
     },
     "execution_count": 32,
     "metadata": {},
     "output_type": "execute_result"
    }
   ],
   "source": [
    "gs.best_params_"
   ]
  },
  {
   "cell_type": "code",
   "execution_count": 33,
   "metadata": {},
   "outputs": [
    {
     "data": {
      "text/plain": [
       "<bound method BaseEstimator.get_params of GridSearchCV(estimator=Lasso(), n_jobs=-1,\n",
       "             param_grid={'alpha': array([  100.        ,   109.8541142 ,   120.67926406,   132.57113656,\n",
       "         145.63484775,   159.98587196,   175.75106249,   193.06977289,\n",
       "         212.09508879,   232.99518105,   255.95479227,   281.1768698 ,\n",
       "         308.88435965,   339.32217719,   372.75937203,   409.49150624,\n",
       "         449.8432669 ,   494.17133613,   542.86754393,   596.36233166,\n",
       "         655.12855686,   719.685673  ,   790.60432...\n",
       "         954.09547635,  1048.11313415,  1151.39539933,  1264.85521686,\n",
       "        1389.49549437,  1526.41796718,  1676.83293681,  1842.06996933,\n",
       "        2023.58964773,  2222.99648253,  2442.05309455,  2682.69579528,\n",
       "        2947.05170255,  3237.45754282,  3556.48030622,  3906.93993705,\n",
       "        4291.93426013,  4714.86636346,  5179.47467923,  5689.86602902,\n",
       "        6250.55192527,  6866.48845004,  7543.12006335,  8286.42772855,\n",
       "        9102.98177992, 10000.        ])})>"
      ]
     },
     "execution_count": 33,
     "metadata": {},
     "output_type": "execute_result"
    }
   ],
   "source": [
    "gs.get_params\n",
    "# best alpha is in the top of range"
   ]
  },
  {
   "cell_type": "code",
   "execution_count": 34,
   "metadata": {},
   "outputs": [],
   "source": [
    "# pd.DataFrame(gs.cv_results_)"
   ]
  },
  {
   "cell_type": "code",
   "execution_count": 35,
   "metadata": {},
   "outputs": [],
   "source": [
    "# use model to predict and calculate RMSE\n",
    "\n",
    "gs_preds_train = gs.predict(df_model_train_final)\n",
    "rmse_gs_train = mean_squared_error(y_train, gs_preds_train, squared=False)\n",
    "\n",
    "gs_preds_test = gs.predict(df_model_test_final)\n",
    "rmse_gs_test = mean_squared_error(y_test, gs_preds_test, squared=False)"
   ]
  },
  {
   "cell_type": "code",
   "execution_count": 36,
   "metadata": {},
   "outputs": [
    {
     "data": {
      "text/html": [
       "<div>\n",
       "<style scoped>\n",
       "    .dataframe tbody tr th:only-of-type {\n",
       "        vertical-align: middle;\n",
       "    }\n",
       "\n",
       "    .dataframe tbody tr th {\n",
       "        vertical-align: top;\n",
       "    }\n",
       "\n",
       "    .dataframe thead th {\n",
       "        text-align: right;\n",
       "    }\n",
       "</style>\n",
       "<table border=\"1\" class=\"dataframe\">\n",
       "  <thead>\n",
       "    <tr style=\"text-align: right;\">\n",
       "      <th></th>\n",
       "      <th>0</th>\n",
       "    </tr>\n",
       "  </thead>\n",
       "  <tbody>\n",
       "    <tr>\n",
       "      <th>overallqual</th>\n",
       "      <td>16895.243011</td>\n",
       "    </tr>\n",
       "    <tr>\n",
       "      <th>bsmtfinsf1</th>\n",
       "      <td>15705.712874</td>\n",
       "    </tr>\n",
       "    <tr>\n",
       "      <th>totrmsabvgrd</th>\n",
       "      <td>12225.335655</td>\n",
       "    </tr>\n",
       "    <tr>\n",
       "      <th>masvnrarea</th>\n",
       "      <td>7331.365213</td>\n",
       "    </tr>\n",
       "    <tr>\n",
       "      <th>bsmtunfsf</th>\n",
       "      <td>7197.658957</td>\n",
       "    </tr>\n",
       "    <tr>\n",
       "      <th>neighborhood_NridgHt</th>\n",
       "      <td>6898.878444</td>\n",
       "    </tr>\n",
       "    <tr>\n",
       "      <th>fullbath</th>\n",
       "      <td>6620.989441</td>\n",
       "    </tr>\n",
       "    <tr>\n",
       "      <th>kitchenqual</th>\n",
       "      <td>6497.757244</td>\n",
       "    </tr>\n",
       "    <tr>\n",
       "      <th>neighborhood_StoneBr</th>\n",
       "      <td>6247.116842</td>\n",
       "    </tr>\n",
       "    <tr>\n",
       "      <th>lotarea</th>\n",
       "      <td>5962.174059</td>\n",
       "    </tr>\n",
       "    <tr>\n",
       "      <th>garagearea</th>\n",
       "      <td>5866.944989</td>\n",
       "    </tr>\n",
       "    <tr>\n",
       "      <th>exterqual</th>\n",
       "      <td>5277.332096</td>\n",
       "    </tr>\n",
       "    <tr>\n",
       "      <th>neighborhood_NoRidge</th>\n",
       "      <td>5268.057409</td>\n",
       "    </tr>\n",
       "    <tr>\n",
       "      <th>bsmtexposure</th>\n",
       "      <td>5105.077165</td>\n",
       "    </tr>\n",
       "    <tr>\n",
       "      <th>overallcond</th>\n",
       "      <td>4835.509648</td>\n",
       "    </tr>\n",
       "    <tr>\n",
       "      <th>screenporch</th>\n",
       "      <td>4666.701120</td>\n",
       "    </tr>\n",
       "    <tr>\n",
       "      <th>halfbath</th>\n",
       "      <td>4387.933653</td>\n",
       "    </tr>\n",
       "    <tr>\n",
       "      <th>fireplaces</th>\n",
       "      <td>4214.446757</td>\n",
       "    </tr>\n",
       "    <tr>\n",
       "      <th>saletype_New</th>\n",
       "      <td>4176.310073</td>\n",
       "    </tr>\n",
       "    <tr>\n",
       "      <th>lotfrontage</th>\n",
       "      <td>4038.433143</td>\n",
       "    </tr>\n",
       "    <tr>\n",
       "      <th>bsmtfullbath</th>\n",
       "      <td>3007.689115</td>\n",
       "    </tr>\n",
       "    <tr>\n",
       "      <th>roofstyle_Hip</th>\n",
       "      <td>2997.633836</td>\n",
       "    </tr>\n",
       "    <tr>\n",
       "      <th>landcontour_HLS</th>\n",
       "      <td>2658.514354</td>\n",
       "    </tr>\n",
       "    <tr>\n",
       "      <th>openporchsf</th>\n",
       "      <td>2599.403318</td>\n",
       "    </tr>\n",
       "    <tr>\n",
       "      <th>exterior2nd_Wd Sdng</th>\n",
       "      <td>2551.733383</td>\n",
       "    </tr>\n",
       "    <tr>\n",
       "      <th>garagetype_BuiltIn</th>\n",
       "      <td>2154.683994</td>\n",
       "    </tr>\n",
       "    <tr>\n",
       "      <th>exterior2nd_CmentBd</th>\n",
       "      <td>2053.104427</td>\n",
       "    </tr>\n",
       "    <tr>\n",
       "      <th>condition1_Norm</th>\n",
       "      <td>1920.006895</td>\n",
       "    </tr>\n",
       "    <tr>\n",
       "      <th>lotconfig_CulDSac</th>\n",
       "      <td>1842.412507</td>\n",
       "    </tr>\n",
       "    <tr>\n",
       "      <th>wooddecksf</th>\n",
       "      <td>1824.877422</td>\n",
       "    </tr>\n",
       "    <tr>\n",
       "      <th>condition2_PosA</th>\n",
       "      <td>1445.688715</td>\n",
       "    </tr>\n",
       "    <tr>\n",
       "      <th>garagetype_Detchd</th>\n",
       "      <td>1377.664101</td>\n",
       "    </tr>\n",
       "    <tr>\n",
       "      <th>functional</th>\n",
       "      <td>1325.695630</td>\n",
       "    </tr>\n",
       "    <tr>\n",
       "      <th>paveddrive</th>\n",
       "      <td>1235.389777</td>\n",
       "    </tr>\n",
       "    <tr>\n",
       "      <th>heatingqc</th>\n",
       "      <td>1184.646471</td>\n",
       "    </tr>\n",
       "    <tr>\n",
       "      <th>neighborhood_Somerst</th>\n",
       "      <td>818.596689</td>\n",
       "    </tr>\n",
       "    <tr>\n",
       "      <th>yearremod_add</th>\n",
       "      <td>736.381482</td>\n",
       "    </tr>\n",
       "    <tr>\n",
       "      <th>garagefinish</th>\n",
       "      <td>709.267193</td>\n",
       "    </tr>\n",
       "    <tr>\n",
       "      <th>garagetype_NA</th>\n",
       "      <td>444.431433</td>\n",
       "    </tr>\n",
       "    <tr>\n",
       "      <th>foundation_Slab</th>\n",
       "      <td>428.411011</td>\n",
       "    </tr>\n",
       "    <tr>\n",
       "      <th>enclosedporch</th>\n",
       "      <td>397.137901</td>\n",
       "    </tr>\n",
       "    <tr>\n",
       "      <th>electrical</th>\n",
       "      <td>371.705889</td>\n",
       "    </tr>\n",
       "    <tr>\n",
       "      <th>neighborhood_BrkSide</th>\n",
       "      <td>261.046938</td>\n",
       "    </tr>\n",
       "    <tr>\n",
       "      <th>has_fence</th>\n",
       "      <td>251.437598</td>\n",
       "    </tr>\n",
       "    <tr>\n",
       "      <th>neighborhood_BrDale</th>\n",
       "      <td>172.458871</td>\n",
       "    </tr>\n",
       "    <tr>\n",
       "      <th>housestyle_2Story</th>\n",
       "      <td>0.000000</td>\n",
       "    </tr>\n",
       "    <tr>\n",
       "      <th>exterior2nd_MetalSd</th>\n",
       "      <td>0.000000</td>\n",
       "    </tr>\n",
       "    <tr>\n",
       "      <th>condition1_Feedr</th>\n",
       "      <td>0.000000</td>\n",
       "    </tr>\n",
       "    <tr>\n",
       "      <th>garageyrblt</th>\n",
       "      <td>-0.000000</td>\n",
       "    </tr>\n",
       "    <tr>\n",
       "      <th>bsmtfintype1</th>\n",
       "      <td>-0.000000</td>\n",
       "    </tr>\n",
       "    <tr>\n",
       "      <th>centralair_Y</th>\n",
       "      <td>-0.000000</td>\n",
       "    </tr>\n",
       "    <tr>\n",
       "      <th>neighborhood_Sawyer</th>\n",
       "      <td>-0.000000</td>\n",
       "    </tr>\n",
       "    <tr>\n",
       "      <th>exterior2nd_VinylSd</th>\n",
       "      <td>-13.978969</td>\n",
       "    </tr>\n",
       "    <tr>\n",
       "      <th>masvnrtype_Stone</th>\n",
       "      <td>-103.014465</td>\n",
       "    </tr>\n",
       "    <tr>\n",
       "      <th>saletype_WD</th>\n",
       "      <td>-169.346568</td>\n",
       "    </tr>\n",
       "    <tr>\n",
       "      <th>has_alley</th>\n",
       "      <td>-263.358644</td>\n",
       "    </tr>\n",
       "    <tr>\n",
       "      <th>neighborhood_MeadowV</th>\n",
       "      <td>-424.022892</td>\n",
       "    </tr>\n",
       "    <tr>\n",
       "      <th>neighborhood_Timber</th>\n",
       "      <td>-771.659239</td>\n",
       "    </tr>\n",
       "    <tr>\n",
       "      <th>bedroomabvgr</th>\n",
       "      <td>-923.892593</td>\n",
       "    </tr>\n",
       "    <tr>\n",
       "      <th>neighborhood_IDOTRR</th>\n",
       "      <td>-967.952935</td>\n",
       "    </tr>\n",
       "    <tr>\n",
       "      <th>lotshape</th>\n",
       "      <td>-1085.602846</td>\n",
       "    </tr>\n",
       "    <tr>\n",
       "      <th>neighborhood_NAmes</th>\n",
       "      <td>-1227.438705</td>\n",
       "    </tr>\n",
       "    <tr>\n",
       "      <th>neighborhood_Edwards</th>\n",
       "      <td>-1297.779621</td>\n",
       "    </tr>\n",
       "    <tr>\n",
       "      <th>foundation_CBlock</th>\n",
       "      <td>-1335.558277</td>\n",
       "    </tr>\n",
       "    <tr>\n",
       "      <th>bldgtype_Twnhs</th>\n",
       "      <td>-1353.861307</td>\n",
       "    </tr>\n",
       "    <tr>\n",
       "      <th>has_garage</th>\n",
       "      <td>-1562.100822</td>\n",
       "    </tr>\n",
       "    <tr>\n",
       "      <th>neighborhood_OldTown</th>\n",
       "      <td>-1703.908917</td>\n",
       "    </tr>\n",
       "    <tr>\n",
       "      <th>mszoning_RM</th>\n",
       "      <td>-1776.168973</td>\n",
       "    </tr>\n",
       "    <tr>\n",
       "      <th>exterior2nd_HdBoard</th>\n",
       "      <td>-2423.925095</td>\n",
       "    </tr>\n",
       "    <tr>\n",
       "      <th>bsmtcond</th>\n",
       "      <td>-2711.522141</td>\n",
       "    </tr>\n",
       "    <tr>\n",
       "      <th>exterior1st_Wd Sdng</th>\n",
       "      <td>-3236.839694</td>\n",
       "    </tr>\n",
       "    <tr>\n",
       "      <th>masvnrtype_BrkFace</th>\n",
       "      <td>-4020.835168</td>\n",
       "    </tr>\n",
       "    <tr>\n",
       "      <th>kitchenabvgr</th>\n",
       "      <td>-4060.850842</td>\n",
       "    </tr>\n",
       "  </tbody>\n",
       "</table>\n",
       "</div>"
      ],
      "text/plain": [
       "                                 0\n",
       "overallqual           16895.243011\n",
       "bsmtfinsf1            15705.712874\n",
       "totrmsabvgrd          12225.335655\n",
       "masvnrarea             7331.365213\n",
       "bsmtunfsf              7197.658957\n",
       "neighborhood_NridgHt   6898.878444\n",
       "fullbath               6620.989441\n",
       "kitchenqual            6497.757244\n",
       "neighborhood_StoneBr   6247.116842\n",
       "lotarea                5962.174059\n",
       "garagearea             5866.944989\n",
       "exterqual              5277.332096\n",
       "neighborhood_NoRidge   5268.057409\n",
       "bsmtexposure           5105.077165\n",
       "overallcond            4835.509648\n",
       "screenporch            4666.701120\n",
       "halfbath               4387.933653\n",
       "fireplaces             4214.446757\n",
       "saletype_New           4176.310073\n",
       "lotfrontage            4038.433143\n",
       "bsmtfullbath           3007.689115\n",
       "roofstyle_Hip          2997.633836\n",
       "landcontour_HLS        2658.514354\n",
       "openporchsf            2599.403318\n",
       "exterior2nd_Wd Sdng    2551.733383\n",
       "garagetype_BuiltIn     2154.683994\n",
       "exterior2nd_CmentBd    2053.104427\n",
       "condition1_Norm        1920.006895\n",
       "lotconfig_CulDSac      1842.412507\n",
       "wooddecksf             1824.877422\n",
       "condition2_PosA        1445.688715\n",
       "garagetype_Detchd      1377.664101\n",
       "functional             1325.695630\n",
       "paveddrive             1235.389777\n",
       "heatingqc              1184.646471\n",
       "neighborhood_Somerst    818.596689\n",
       "yearremod_add           736.381482\n",
       "garagefinish            709.267193\n",
       "garagetype_NA           444.431433\n",
       "foundation_Slab         428.411011\n",
       "enclosedporch           397.137901\n",
       "electrical              371.705889\n",
       "neighborhood_BrkSide    261.046938\n",
       "has_fence               251.437598\n",
       "neighborhood_BrDale     172.458871\n",
       "housestyle_2Story         0.000000\n",
       "exterior2nd_MetalSd       0.000000\n",
       "condition1_Feedr          0.000000\n",
       "garageyrblt              -0.000000\n",
       "bsmtfintype1             -0.000000\n",
       "centralair_Y             -0.000000\n",
       "neighborhood_Sawyer      -0.000000\n",
       "exterior2nd_VinylSd     -13.978969\n",
       "masvnrtype_Stone       -103.014465\n",
       "saletype_WD            -169.346568\n",
       "has_alley              -263.358644\n",
       "neighborhood_MeadowV   -424.022892\n",
       "neighborhood_Timber    -771.659239\n",
       "bedroomabvgr           -923.892593\n",
       "neighborhood_IDOTRR    -967.952935\n",
       "lotshape              -1085.602846\n",
       "neighborhood_NAmes    -1227.438705\n",
       "neighborhood_Edwards  -1297.779621\n",
       "foundation_CBlock     -1335.558277\n",
       "bldgtype_Twnhs        -1353.861307\n",
       "has_garage            -1562.100822\n",
       "neighborhood_OldTown  -1703.908917\n",
       "mszoning_RM           -1776.168973\n",
       "exterior2nd_HdBoard   -2423.925095\n",
       "bsmtcond              -2711.522141\n",
       "exterior1st_Wd Sdng   -3236.839694\n",
       "masvnrtype_BrkFace    -4020.835168\n",
       "kitchenabvgr          -4060.850842"
      ]
     },
     "execution_count": 36,
     "metadata": {},
     "output_type": "execute_result"
    }
   ],
   "source": [
    "#print out coefficients of features\n",
    "pd.DataFrame(gs.best_estimator_.coef_, gs.best_estimator_.feature_names_in_).sort_values(by=0, ascending=False)"
   ]
  },
  {
   "cell_type": "code",
   "execution_count": 37,
   "metadata": {},
   "outputs": [
    {
     "name": "stdout",
     "output_type": "stream",
     "text": [
      "baseline: saleprice    181205.50219\n",
      "dtype: float64\n",
      "                      \n",
      "-----LR/OLS----- \n",
      "rmse train: 24716.971636189173\n",
      "rmse test: 26742.42745018656\n",
      "r2 train: 0.9036883527932799\n",
      "r2 test: 0.8839212571741166\n",
      "                      \n",
      "-----RidgeCV----- \n",
      "rmse train: 24824.566532863006\n",
      "rmse test: 26844.797990760137\n",
      "r2 train: 0.9036883527932799\n",
      "r2 test: 0.8839212571741166\n",
      "                      \n",
      "-----ElasticNet----- \n",
      "rmse train: 24853.6019255395\n",
      "rmse test: 26872.022486436836\n",
      "r2 train:  0.9026206282537046\n",
      "r2 test:  0.8827934852840869\n",
      "                      \n",
      "-----GridSearchCV - Lasso----- \n",
      "rmse train: 24768.292763152476\n",
      "rmse test: 26776.383402566353\n",
      "r2 train: 0.9032879838592556\n",
      "r2 test: 0.8836262901855279\n"
     ]
    }
   ],
   "source": [
    "print('baseline:', y_train.mean())\n",
    "print('                      ')\n",
    "print(\"-----LR/OLS----- \")\n",
    "print('rmse train:', mean_squared_error(y_train, y_pred, squared=False))\n",
    "print('rmse test:', mean_squared_error(y_test, y_test_pred, squared=False))\n",
    "print('r2 train:', lr.score(df_model_train_final, y_train))\n",
    "print('r2 test:', lr.score(df_model_test_final, y_test))\n",
    "print('                      ')\n",
    "print(\"-----RidgeCV----- \")\n",
    "print('rmse train:', RMSE_ridge_train)\n",
    "print('rmse test:', RMSE_ridge_test)\n",
    "print('r2 train:', lr.score(df_model_train_final, y_train))\n",
    "print('r2 test:', lr.score(df_model_test_final, y_test))\n",
    "print('                      ')\n",
    "print(\"-----ElasticNet----- \")\n",
    "print('rmse train:', mean_squared_error(y_train, enet_preds, squared=False))\n",
    "print('rmse test:', mean_squared_error(y_test, enet_test_preds, squared=False))\n",
    "print('r2 train: ', enet_model.score(df_model_train_final, y_train))\n",
    "print('r2 test: ', enet_model.score(df_model_test_final, y_test))\n",
    "print('                      ')\n",
    "print(\"-----GridSearchCV - Lasso----- \")\n",
    "print('rmse train:', rmse_gs_train)\n",
    "print('rmse test:', rmse_gs_test)\n",
    "print('r2 train:', gs.score(df_model_train_final,y_train))\n",
    "print('r2 test:', gs.score(df_model_test_final,y_test))"
   ]
  },
  {
   "cell_type": "markdown",
   "metadata": {
    "tags": []
   },
   "source": [
    "## Model Choice\n",
    "---\n",
    "- the LR performs a bit better than all models when looking at RMSE\n",
    "- R2 on training for all models is slightly similar to test r2 vals which is expected since the model was built on the training dataset\n",
    "- GridSearchCV lasso did drop features which shows there are features that are not important to the prediction\n",
    "- since the rmse for the lr is better on test data, I'm going to choose that model\n",
    "- One downfall of the model doesn't take into account if two features work together and non-linear relationships"
   ]
  },
  {
   "cell_type": "code",
   "execution_count": null,
   "metadata": {},
   "outputs": [],
   "source": []
  }
 ],
 "metadata": {
  "anaconda-cloud": {},
  "kernelspec": {
   "display_name": "Python 3 (ipykernel)",
   "language": "python",
   "name": "python3"
  },
  "language_info": {
   "codemirror_mode": {
    "name": "ipython",
    "version": 3
   },
   "file_extension": ".py",
   "mimetype": "text/x-python",
   "name": "python",
   "nbconvert_exporter": "python",
   "pygments_lexer": "ipython3",
   "version": "3.9.7"
  }
 },
 "nbformat": 4,
 "nbformat_minor": 4
}
